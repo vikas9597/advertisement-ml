{
 "cells": [
  {
   "cell_type": "code",
   "execution_count": 1,
   "metadata": {},
   "outputs": [],
   "source": [
    "import pandas as pd\n",
    "import numpy as np"
   ]
  },
  {
   "cell_type": "code",
   "execution_count": 2,
   "metadata": {},
   "outputs": [],
   "source": [
    "advert=pd.read_csv('advertising.csv')"
   ]
  },
  {
   "cell_type": "code",
   "execution_count": 3,
   "metadata": {},
   "outputs": [
    {
     "data": {
      "text/html": [
       "<div>\n",
       "<style scoped>\n",
       "    .dataframe tbody tr th:only-of-type {\n",
       "        vertical-align: middle;\n",
       "    }\n",
       "\n",
       "    .dataframe tbody tr th {\n",
       "        vertical-align: top;\n",
       "    }\n",
       "\n",
       "    .dataframe thead th {\n",
       "        text-align: right;\n",
       "    }\n",
       "</style>\n",
       "<table border=\"1\" class=\"dataframe\">\n",
       "  <thead>\n",
       "    <tr style=\"text-align: right;\">\n",
       "      <th></th>\n",
       "      <th>Daily Time Spent on Site</th>\n",
       "      <th>Age</th>\n",
       "      <th>Area Income</th>\n",
       "      <th>Daily Internet Usage</th>\n",
       "      <th>Ad Topic Line</th>\n",
       "      <th>City</th>\n",
       "      <th>Male</th>\n",
       "      <th>Country</th>\n",
       "      <th>Timestamp</th>\n",
       "      <th>Clicked on Ad</th>\n",
       "    </tr>\n",
       "  </thead>\n",
       "  <tbody>\n",
       "    <tr>\n",
       "      <th>0</th>\n",
       "      <td>68.95</td>\n",
       "      <td>35</td>\n",
       "      <td>61833.90</td>\n",
       "      <td>256.09</td>\n",
       "      <td>Cloned 5thgeneration orchestration</td>\n",
       "      <td>Wrightburgh</td>\n",
       "      <td>0</td>\n",
       "      <td>Tunisia</td>\n",
       "      <td>27/03/2016 0:53</td>\n",
       "      <td>0</td>\n",
       "    </tr>\n",
       "    <tr>\n",
       "      <th>1</th>\n",
       "      <td>80.23</td>\n",
       "      <td>31</td>\n",
       "      <td>68441.85</td>\n",
       "      <td>193.77</td>\n",
       "      <td>Monitored national standardization</td>\n",
       "      <td>West Jodi</td>\n",
       "      <td>1</td>\n",
       "      <td>Nauru</td>\n",
       "      <td>04/04/2016 1:39</td>\n",
       "      <td>0</td>\n",
       "    </tr>\n",
       "    <tr>\n",
       "      <th>2</th>\n",
       "      <td>69.47</td>\n",
       "      <td>26</td>\n",
       "      <td>59785.94</td>\n",
       "      <td>236.50</td>\n",
       "      <td>Organic bottom-line service-desk</td>\n",
       "      <td>Davidton</td>\n",
       "      <td>0</td>\n",
       "      <td>San Marino</td>\n",
       "      <td>13/03/2016 20:35</td>\n",
       "      <td>0</td>\n",
       "    </tr>\n",
       "    <tr>\n",
       "      <th>3</th>\n",
       "      <td>74.15</td>\n",
       "      <td>29</td>\n",
       "      <td>54806.18</td>\n",
       "      <td>245.89</td>\n",
       "      <td>Triple-buffered reciprocal time-frame</td>\n",
       "      <td>West Terrifurt</td>\n",
       "      <td>1</td>\n",
       "      <td>Italy</td>\n",
       "      <td>10/01/2016 2:31</td>\n",
       "      <td>0</td>\n",
       "    </tr>\n",
       "    <tr>\n",
       "      <th>4</th>\n",
       "      <td>68.37</td>\n",
       "      <td>35</td>\n",
       "      <td>73889.99</td>\n",
       "      <td>225.58</td>\n",
       "      <td>Robust logistical utilization</td>\n",
       "      <td>South Manuel</td>\n",
       "      <td>0</td>\n",
       "      <td>Iceland</td>\n",
       "      <td>03/06/2016 3:36</td>\n",
       "      <td>0</td>\n",
       "    </tr>\n",
       "  </tbody>\n",
       "</table>\n",
       "</div>"
      ],
      "text/plain": [
       "   Daily Time Spent on Site  Age  Area Income  Daily Internet Usage  \\\n",
       "0                     68.95   35     61833.90                256.09   \n",
       "1                     80.23   31     68441.85                193.77   \n",
       "2                     69.47   26     59785.94                236.50   \n",
       "3                     74.15   29     54806.18                245.89   \n",
       "4                     68.37   35     73889.99                225.58   \n",
       "\n",
       "                           Ad Topic Line            City  Male     Country  \\\n",
       "0     Cloned 5thgeneration orchestration     Wrightburgh     0     Tunisia   \n",
       "1     Monitored national standardization       West Jodi     1       Nauru   \n",
       "2       Organic bottom-line service-desk        Davidton     0  San Marino   \n",
       "3  Triple-buffered reciprocal time-frame  West Terrifurt     1       Italy   \n",
       "4          Robust logistical utilization    South Manuel     0     Iceland   \n",
       "\n",
       "          Timestamp  Clicked on Ad  \n",
       "0   27/03/2016 0:53              0  \n",
       "1   04/04/2016 1:39              0  \n",
       "2  13/03/2016 20:35              0  \n",
       "3   10/01/2016 2:31              0  \n",
       "4   03/06/2016 3:36              0  "
      ]
     },
     "execution_count": 3,
     "metadata": {},
     "output_type": "execute_result"
    }
   ],
   "source": [
    "advert.head()"
   ]
  },
  {
   "cell_type": "code",
   "execution_count": 4,
   "metadata": {},
   "outputs": [
    {
     "name": "stdout",
     "output_type": "stream",
     "text": [
      "<class 'pandas.core.frame.DataFrame'>\n",
      "RangeIndex: 900 entries, 0 to 899\n",
      "Data columns (total 10 columns):\n",
      "Daily Time Spent on Site    900 non-null float64\n",
      "Age                         900 non-null int64\n",
      "Area Income                 900 non-null float64\n",
      "Daily Internet Usage        900 non-null float64\n",
      "Ad Topic Line               900 non-null object\n",
      "City                        900 non-null object\n",
      "Male                        900 non-null int64\n",
      "Country                     900 non-null object\n",
      "Timestamp                   900 non-null object\n",
      "Clicked on Ad               900 non-null int64\n",
      "dtypes: float64(3), int64(3), object(4)\n",
      "memory usage: 70.4+ KB\n"
     ]
    }
   ],
   "source": [
    "advert.info()"
   ]
  },
  {
   "cell_type": "code",
   "execution_count": 5,
   "metadata": {},
   "outputs": [
    {
     "data": {
      "text/html": [
       "<div>\n",
       "<style scoped>\n",
       "    .dataframe tbody tr th:only-of-type {\n",
       "        vertical-align: middle;\n",
       "    }\n",
       "\n",
       "    .dataframe tbody tr th {\n",
       "        vertical-align: top;\n",
       "    }\n",
       "\n",
       "    .dataframe thead th {\n",
       "        text-align: right;\n",
       "    }\n",
       "</style>\n",
       "<table border=\"1\" class=\"dataframe\">\n",
       "  <thead>\n",
       "    <tr style=\"text-align: right;\">\n",
       "      <th></th>\n",
       "      <th>Daily Time Spent on Site</th>\n",
       "      <th>Age</th>\n",
       "      <th>Area Income</th>\n",
       "      <th>Daily Internet Usage</th>\n",
       "      <th>Male</th>\n",
       "      <th>Clicked on Ad</th>\n",
       "    </tr>\n",
       "  </thead>\n",
       "  <tbody>\n",
       "    <tr>\n",
       "      <th>count</th>\n",
       "      <td>900.000000</td>\n",
       "      <td>900.000000</td>\n",
       "      <td>900.000000</td>\n",
       "      <td>900.000000</td>\n",
       "      <td>900.000000</td>\n",
       "      <td>900.000000</td>\n",
       "    </tr>\n",
       "    <tr>\n",
       "      <th>mean</th>\n",
       "      <td>65.425800</td>\n",
       "      <td>35.903333</td>\n",
       "      <td>55315.072767</td>\n",
       "      <td>180.702344</td>\n",
       "      <td>0.483333</td>\n",
       "      <td>0.487778</td>\n",
       "    </tr>\n",
       "    <tr>\n",
       "      <th>std</th>\n",
       "      <td>15.712563</td>\n",
       "      <td>8.744462</td>\n",
       "      <td>13376.323458</td>\n",
       "      <td>43.823397</td>\n",
       "      <td>0.500000</td>\n",
       "      <td>0.500129</td>\n",
       "    </tr>\n",
       "    <tr>\n",
       "      <th>min</th>\n",
       "      <td>32.600000</td>\n",
       "      <td>19.000000</td>\n",
       "      <td>13996.500000</td>\n",
       "      <td>104.780000</td>\n",
       "      <td>0.000000</td>\n",
       "      <td>0.000000</td>\n",
       "    </tr>\n",
       "    <tr>\n",
       "      <th>25%</th>\n",
       "      <td>52.160000</td>\n",
       "      <td>29.000000</td>\n",
       "      <td>47494.787500</td>\n",
       "      <td>139.245000</td>\n",
       "      <td>0.000000</td>\n",
       "      <td>0.000000</td>\n",
       "    </tr>\n",
       "    <tr>\n",
       "      <th>50%</th>\n",
       "      <td>68.945000</td>\n",
       "      <td>35.000000</td>\n",
       "      <td>57631.345000</td>\n",
       "      <td>184.555000</td>\n",
       "      <td>0.000000</td>\n",
       "      <td>0.000000</td>\n",
       "    </tr>\n",
       "    <tr>\n",
       "      <th>75%</th>\n",
       "      <td>78.610000</td>\n",
       "      <td>41.000000</td>\n",
       "      <td>65666.300000</td>\n",
       "      <td>219.720000</td>\n",
       "      <td>1.000000</td>\n",
       "      <td>1.000000</td>\n",
       "    </tr>\n",
       "    <tr>\n",
       "      <th>max</th>\n",
       "      <td>91.430000</td>\n",
       "      <td>61.000000</td>\n",
       "      <td>79484.800000</td>\n",
       "      <td>269.960000</td>\n",
       "      <td>1.000000</td>\n",
       "      <td>1.000000</td>\n",
       "    </tr>\n",
       "  </tbody>\n",
       "</table>\n",
       "</div>"
      ],
      "text/plain": [
       "       Daily Time Spent on Site         Age   Area Income  \\\n",
       "count                900.000000  900.000000    900.000000   \n",
       "mean                  65.425800   35.903333  55315.072767   \n",
       "std                   15.712563    8.744462  13376.323458   \n",
       "min                   32.600000   19.000000  13996.500000   \n",
       "25%                   52.160000   29.000000  47494.787500   \n",
       "50%                   68.945000   35.000000  57631.345000   \n",
       "75%                   78.610000   41.000000  65666.300000   \n",
       "max                   91.430000   61.000000  79484.800000   \n",
       "\n",
       "       Daily Internet Usage        Male  Clicked on Ad  \n",
       "count            900.000000  900.000000     900.000000  \n",
       "mean             180.702344    0.483333       0.487778  \n",
       "std               43.823397    0.500000       0.500129  \n",
       "min              104.780000    0.000000       0.000000  \n",
       "25%              139.245000    0.000000       0.000000  \n",
       "50%              184.555000    0.000000       0.000000  \n",
       "75%              219.720000    1.000000       1.000000  \n",
       "max              269.960000    1.000000       1.000000  "
      ]
     },
     "execution_count": 5,
     "metadata": {},
     "output_type": "execute_result"
    }
   ],
   "source": [
    "advert.describe()"
   ]
  },
  {
   "cell_type": "code",
   "execution_count": 6,
   "metadata": {},
   "outputs": [
    {
     "data": {
      "text/html": [
       "<div>\n",
       "<style scoped>\n",
       "    .dataframe tbody tr th:only-of-type {\n",
       "        vertical-align: middle;\n",
       "    }\n",
       "\n",
       "    .dataframe tbody tr th {\n",
       "        vertical-align: top;\n",
       "    }\n",
       "\n",
       "    .dataframe thead th {\n",
       "        text-align: right;\n",
       "    }\n",
       "</style>\n",
       "<table border=\"1\" class=\"dataframe\">\n",
       "  <thead>\n",
       "    <tr style=\"text-align: right;\">\n",
       "      <th></th>\n",
       "      <th>Ad Topic Line</th>\n",
       "      <th>City</th>\n",
       "      <th>Country</th>\n",
       "      <th>Timestamp</th>\n",
       "    </tr>\n",
       "  </thead>\n",
       "  <tbody>\n",
       "    <tr>\n",
       "      <th>count</th>\n",
       "      <td>900</td>\n",
       "      <td>900</td>\n",
       "      <td>900</td>\n",
       "      <td>900</td>\n",
       "    </tr>\n",
       "    <tr>\n",
       "      <th>unique</th>\n",
       "      <td>900</td>\n",
       "      <td>875</td>\n",
       "      <td>234</td>\n",
       "      <td>897</td>\n",
       "    </tr>\n",
       "    <tr>\n",
       "      <th>top</th>\n",
       "      <td>Digitized zero-defect implementation</td>\n",
       "      <td>Lisamouth</td>\n",
       "      <td>Turkey</td>\n",
       "      <td>30/05/2016 8:02</td>\n",
       "    </tr>\n",
       "    <tr>\n",
       "      <th>freq</th>\n",
       "      <td>1</td>\n",
       "      <td>3</td>\n",
       "      <td>8</td>\n",
       "      <td>2</td>\n",
       "    </tr>\n",
       "  </tbody>\n",
       "</table>\n",
       "</div>"
      ],
      "text/plain": [
       "                               Ad Topic Line       City Country  \\\n",
       "count                                    900        900     900   \n",
       "unique                                   900        875     234   \n",
       "top     Digitized zero-defect implementation  Lisamouth  Turkey   \n",
       "freq                                       1          3       8   \n",
       "\n",
       "              Timestamp  \n",
       "count               900  \n",
       "unique              897  \n",
       "top     30/05/2016 8:02  \n",
       "freq                  2  "
      ]
     },
     "execution_count": 6,
     "metadata": {},
     "output_type": "execute_result"
    }
   ],
   "source": [
    "advert.describe(include=[np.object])"
   ]
  },
  {
   "cell_type": "code",
   "execution_count": 7,
   "metadata": {},
   "outputs": [
    {
     "name": "stdout",
     "output_type": "stream",
     "text": [
      "Daily Time Spent on Site    False\n",
      "Age                         False\n",
      "Area Income                 False\n",
      "Daily Internet Usage        False\n",
      "Ad Topic Line               False\n",
      "City                        False\n",
      "Male                        False\n",
      "Country                     False\n",
      "Timestamp                   False\n",
      "Clicked on Ad               False\n",
      "dtype: bool\n"
     ]
    }
   ],
   "source": [
    "print(advert.isnull().any())"
   ]
  },
  {
   "cell_type": "code",
   "execution_count": 8,
   "metadata": {},
   "outputs": [],
   "source": [
    "advert.rename(columns={'Male':'Gender'}, inplace=True)"
   ]
  },
  {
   "cell_type": "code",
   "execution_count": 9,
   "metadata": {},
   "outputs": [
    {
     "data": {
      "text/html": [
       "<div>\n",
       "<style scoped>\n",
       "    .dataframe tbody tr th:only-of-type {\n",
       "        vertical-align: middle;\n",
       "    }\n",
       "\n",
       "    .dataframe tbody tr th {\n",
       "        vertical-align: top;\n",
       "    }\n",
       "\n",
       "    .dataframe thead th {\n",
       "        text-align: right;\n",
       "    }\n",
       "</style>\n",
       "<table border=\"1\" class=\"dataframe\">\n",
       "  <thead>\n",
       "    <tr style=\"text-align: right;\">\n",
       "      <th></th>\n",
       "      <th>Daily Time Spent on Site</th>\n",
       "      <th>Age</th>\n",
       "      <th>Area Income</th>\n",
       "      <th>Daily Internet Usage</th>\n",
       "      <th>Ad Topic Line</th>\n",
       "      <th>City</th>\n",
       "      <th>Gender</th>\n",
       "      <th>Country</th>\n",
       "      <th>Timestamp</th>\n",
       "      <th>Clicked on Ad</th>\n",
       "    </tr>\n",
       "  </thead>\n",
       "  <tbody>\n",
       "    <tr>\n",
       "      <th>0</th>\n",
       "      <td>68.95</td>\n",
       "      <td>35</td>\n",
       "      <td>61833.90</td>\n",
       "      <td>256.09</td>\n",
       "      <td>Cloned 5thgeneration orchestration</td>\n",
       "      <td>Wrightburgh</td>\n",
       "      <td>0</td>\n",
       "      <td>Tunisia</td>\n",
       "      <td>27/03/2016 0:53</td>\n",
       "      <td>0</td>\n",
       "    </tr>\n",
       "    <tr>\n",
       "      <th>1</th>\n",
       "      <td>80.23</td>\n",
       "      <td>31</td>\n",
       "      <td>68441.85</td>\n",
       "      <td>193.77</td>\n",
       "      <td>Monitored national standardization</td>\n",
       "      <td>West Jodi</td>\n",
       "      <td>1</td>\n",
       "      <td>Nauru</td>\n",
       "      <td>04/04/2016 1:39</td>\n",
       "      <td>0</td>\n",
       "    </tr>\n",
       "    <tr>\n",
       "      <th>2</th>\n",
       "      <td>69.47</td>\n",
       "      <td>26</td>\n",
       "      <td>59785.94</td>\n",
       "      <td>236.50</td>\n",
       "      <td>Organic bottom-line service-desk</td>\n",
       "      <td>Davidton</td>\n",
       "      <td>0</td>\n",
       "      <td>San Marino</td>\n",
       "      <td>13/03/2016 20:35</td>\n",
       "      <td>0</td>\n",
       "    </tr>\n",
       "    <tr>\n",
       "      <th>3</th>\n",
       "      <td>74.15</td>\n",
       "      <td>29</td>\n",
       "      <td>54806.18</td>\n",
       "      <td>245.89</td>\n",
       "      <td>Triple-buffered reciprocal time-frame</td>\n",
       "      <td>West Terrifurt</td>\n",
       "      <td>1</td>\n",
       "      <td>Italy</td>\n",
       "      <td>10/01/2016 2:31</td>\n",
       "      <td>0</td>\n",
       "    </tr>\n",
       "    <tr>\n",
       "      <th>4</th>\n",
       "      <td>68.37</td>\n",
       "      <td>35</td>\n",
       "      <td>73889.99</td>\n",
       "      <td>225.58</td>\n",
       "      <td>Robust logistical utilization</td>\n",
       "      <td>South Manuel</td>\n",
       "      <td>0</td>\n",
       "      <td>Iceland</td>\n",
       "      <td>03/06/2016 3:36</td>\n",
       "      <td>0</td>\n",
       "    </tr>\n",
       "  </tbody>\n",
       "</table>\n",
       "</div>"
      ],
      "text/plain": [
       "   Daily Time Spent on Site  Age  Area Income  Daily Internet Usage  \\\n",
       "0                     68.95   35     61833.90                256.09   \n",
       "1                     80.23   31     68441.85                193.77   \n",
       "2                     69.47   26     59785.94                236.50   \n",
       "3                     74.15   29     54806.18                245.89   \n",
       "4                     68.37   35     73889.99                225.58   \n",
       "\n",
       "                           Ad Topic Line            City  Gender     Country  \\\n",
       "0     Cloned 5thgeneration orchestration     Wrightburgh       0     Tunisia   \n",
       "1     Monitored national standardization       West Jodi       1       Nauru   \n",
       "2       Organic bottom-line service-desk        Davidton       0  San Marino   \n",
       "3  Triple-buffered reciprocal time-frame  West Terrifurt       1       Italy   \n",
       "4          Robust logistical utilization    South Manuel       0     Iceland   \n",
       "\n",
       "          Timestamp  Clicked on Ad  \n",
       "0   27/03/2016 0:53              0  \n",
       "1   04/04/2016 1:39              0  \n",
       "2  13/03/2016 20:35              0  \n",
       "3   10/01/2016 2:31              0  \n",
       "4   03/06/2016 3:36              0  "
      ]
     },
     "execution_count": 9,
     "metadata": {},
     "output_type": "execute_result"
    }
   ],
   "source": [
    "advert.head()"
   ]
  },
  {
   "cell_type": "code",
   "execution_count": 10,
   "metadata": {},
   "outputs": [],
   "source": [
    "import matplotlib.pyplot as plt"
   ]
  },
  {
   "cell_type": "code",
   "execution_count": 11,
   "metadata": {},
   "outputs": [
    {
     "data": {
      "image/png": "[encoded data removed]",
      "text/plain": [
       "<Figure size 1080x576 with 1 Axes>"
      ]
     },
     "metadata": {
      "needs_background": "light"
     },
     "output_type": "display_data"
    }
   ],
   "source": [
    "plt.figure(figsize=(15, 8))\n",
    "plt.hist(advert.Age)\n",
    "font = {'size' : 18 }\n",
    "plt.xlabel('Age', fontdict=font)\n",
    "plt.ylabel('Number of persons', fontdict=font)\n",
    "plt.title(\"Distribution of Age\", fontdict=font)\n",
    "plt.savefig('Age-Distribution.png')\n",
    "plt.show()"
   ]
  },
  {
   "cell_type": "code",
   "execution_count": 12,
   "metadata": {},
   "outputs": [],
   "source": [
    "age_data = pd.cut(advert.Age, bins=[0, 10, 20, 30, 40, 50, 60, 70, 80])"
   ]
  },
  {
   "cell_type": "code",
   "execution_count": 13,
   "metadata": {},
   "outputs": [
    {
     "name": "stdout",
     "output_type": "stream",
     "text": [
      "(0, 10]       0\n",
      "(10, 20]     10\n",
      "(20, 30]    264\n",
      "(30, 40]    372\n",
      "(40, 50]    190\n",
      "(50, 60]     63\n",
      "(60, 70]      1\n",
      "(70, 80]      0\n",
      "Name: Age, dtype: int64\n"
     ]
    }
   ],
   "source": [
    "print(age_data.value_counts().sort_index(ascending=True))"
   ]
  },
  {
   "cell_type": "code",
   "execution_count": 14,
   "metadata": {},
   "outputs": [],
   "source": [
    "import seaborn as sns"
   ]
  },
  {
   "cell_type": "code",
   "execution_count": 15,
   "metadata": {},
   "outputs": [
    {
     "data": {
      "image/png": "[encoded data removed]",
      "text/plain": [
       "<Figure size 1080x864 with 1 Axes>"
      ]
     },
     "metadata": {
      "needs_background": "light"
     },
     "output_type": "display_data"
    }
   ],
   "source": [
    "fig, ax = plt.subplots(figsize=(15, 12))\n",
    "font = {'size' : 18 }\n",
    "plt.xlabel('Age', fontdict=font)\n",
    "plt.ylabel('Number of persons', fontdict=font)\n",
    "sns.boxplot(data=advert.Age, ax=ax)\n",
    "plt.title('Outliers in Age Column', fontdict=font)\n",
    "plt.savefig('Age-Outliers.png')\n",
    "plt.show()"
   ]
  },
  {
   "cell_type": "code",
   "execution_count": 16,
   "metadata": {},
   "outputs": [
    {
     "data": {
      "text/plain": [
       "0    465\n",
       "1    435\n",
       "Name: Gender, dtype: int64"
      ]
     },
     "execution_count": 16,
     "metadata": {},
     "output_type": "execute_result"
    }
   ],
   "source": [
    "advert.Gender.value_counts()"
   ]
  },
  {
   "cell_type": "code",
   "execution_count": 17,
   "metadata": {},
   "outputs": [
    {
     "name": "stdout",
     "output_type": "stream",
     "text": [
      "Total female are  51.66666666666667\n",
      "Total male are  48.333333333333336\n"
     ]
    }
   ],
   "source": [
    "total_number_of_persons  = advert.Gender.count()\n",
    "\n",
    "percentage_female_ads = (advert['Gender'][advert['Gender']==0].count()/total_number_of_persons) * 100\n",
    "print('Total female are ', percentage_female_ads)\n",
    "\n",
    "percentage_male_ads = (advert['Gender'][advert['Gender']==1].count()/total_number_of_persons) * 100\n",
    "print('Total male are ', percentage_male_ads)"
   ]
  },
  {
   "cell_type": "code",
   "execution_count": 18,
   "metadata": {},
   "outputs": [
    {
     "data": {
      "image/png": "[encoded data removed]",
      "text/plain": [
       "<Figure size 1080x576 with 1 Axes>"
      ]
     },
     "metadata": {
      "needs_background": "light"
     },
     "output_type": "display_data"
    }
   ],
   "source": [
    "plt.figure(figsize=(15, 8))\n",
    "plt.xlabel('Gender Category', fontdict=font)\n",
    "plt.ylabel('Number of Persons', fontdict=font)\n",
    "plt.bar(x=['Male', 'Female'], height=advert['Gender'].value_counts())\n",
    "plt.title('Gender vs Persons Count', fontdict=font)\n",
    "plt.savefig('Gender-Distribution')\n",
    "plt.show()"
   ]
  },
  {
   "cell_type": "code",
   "execution_count": null,
   "metadata": {},
   "outputs": [],
   "source": []
  },
  {
   "cell_type": "code",
   "execution_count": 19,
   "metadata": {},
   "outputs": [
    {
     "data": {
      "image/png": "[encoded data removed]",
      "text/plain": [
       "<Figure size 1080x576 with 1 Axes>"
      ]
     },
     "metadata": {
      "needs_background": "light"
     },
     "output_type": "display_data"
    }
   ],
   "source": [
    "plt.figure(figsize=(15, 8))\n",
    "plt.xlabel('Age of the person', fontdict=font)\n",
    "plt.ylabel('Daily Time Spent on Site', fontdict=font)\n",
    "plt.scatter(x=advert['Age'], y=advert['Daily Time Spent on Site'])\n",
    "plt.title('Age of Persons vs Daily Time Spent on Site', fontdict=font)\n",
    "plt.savefig('Daily Time Spent on Site-Age-Analysis')\n",
    "plt.show()"
   ]
  },
  {
   "cell_type": "code",
   "execution_count": 20,
   "metadata": {},
   "outputs": [
    {
     "data": {
      "text/plain": [
       "-0.33730595442129757"
      ]
     },
     "execution_count": 20,
     "metadata": {},
     "output_type": "execute_result"
    }
   ],
   "source": [
    "advert['Age'].corr(advert['Daily Time Spent on Site'])"
   ]
  },
  {
   "cell_type": "code",
   "execution_count": 21,
   "metadata": {},
   "outputs": [
    {
     "data": {
      "image/png": "[encoded data removed]",
      "text/plain": [
       "<Figure size 1080x576 with 1 Axes>"
      ]
     },
     "metadata": {
      "needs_background": "light"
     },
     "output_type": "display_data"
    }
   ],
   "source": [
    "plt.figure(figsize=(15, 8))\n",
    "plt.xlabel('Gender', fontdict=font)\n",
    "plt.ylabel('Average Age', fontdict=font)\n",
    "advert.groupby('Gender')['Age'].mean().plot.bar()\n",
    "plt.xticks(labels=['Female', 'Male'], ticks=[0, 1], rotation=0, fontsize=14)\n",
    "plt.title('Average Age/Gender', fontdict=font)\n",
    "plt.savefig('Age-Gender-Analysis.png')\n",
    "plt.show()"
   ]
  },
  {
   "cell_type": "code",
   "execution_count": 22,
   "metadata": {},
   "outputs": [
    {
     "data": {
      "text/html": [
       "<div>\n",
       "<style scoped>\n",
       "    .dataframe tbody tr th:only-of-type {\n",
       "        vertical-align: middle;\n",
       "    }\n",
       "\n",
       "    .dataframe tbody tr th {\n",
       "        vertical-align: top;\n",
       "    }\n",
       "\n",
       "    .dataframe thead th {\n",
       "        text-align: right;\n",
       "    }\n",
       "</style>\n",
       "<table border=\"1\" class=\"dataframe\">\n",
       "  <thead>\n",
       "    <tr style=\"text-align: right;\">\n",
       "      <th>Clicked on Ad</th>\n",
       "      <th>0</th>\n",
       "      <th>1</th>\n",
       "    </tr>\n",
       "    <tr>\n",
       "      <th>Gender</th>\n",
       "      <th></th>\n",
       "      <th></th>\n",
       "    </tr>\n",
       "  </thead>\n",
       "  <tbody>\n",
       "    <tr>\n",
       "      <th>0</th>\n",
       "      <td>229</td>\n",
       "      <td>236</td>\n",
       "    </tr>\n",
       "    <tr>\n",
       "      <th>1</th>\n",
       "      <td>232</td>\n",
       "      <td>203</td>\n",
       "    </tr>\n",
       "  </tbody>\n",
       "</table>\n",
       "</div>"
      ],
      "text/plain": [
       "Clicked on Ad    0    1\n",
       "Gender                 \n",
       "0              229  236\n",
       "1              232  203"
      ]
     },
     "execution_count": 22,
     "metadata": {},
     "output_type": "execute_result"
    }
   ],
   "source": [
    "pd.crosstab(advert['Gender'], advert['Clicked on Ad'])"
   ]
  },
  {
   "cell_type": "code",
   "execution_count": 23,
   "metadata": {},
   "outputs": [
    {
     "data": {
      "text/plain": [
       "232"
      ]
     },
     "execution_count": 23,
     "metadata": {},
     "output_type": "execute_result"
    }
   ],
   "source": [
    "male_data_noclick = advert['Gender'][(advert['Gender']==1) & (advert['Clicked on Ad']==0)].shape[0]\n",
    "male_data_noclick"
   ]
  },
  {
   "cell_type": "code",
   "execution_count": 24,
   "metadata": {},
   "outputs": [
    {
     "data": {
      "text/plain": [
       "203"
      ]
     },
     "execution_count": 24,
     "metadata": {},
     "output_type": "execute_result"
    }
   ],
   "source": [
    "male_data_click = advert['Gender'][(advert['Gender']==1) & (advert['Clicked on Ad']==1)].shape[0]\n",
    "male_data_click"
   ]
  },
  {
   "cell_type": "code",
   "execution_count": 25,
   "metadata": {},
   "outputs": [
    {
     "data": {
      "text/plain": [
       "229"
      ]
     },
     "execution_count": 25,
     "metadata": {},
     "output_type": "execute_result"
    }
   ],
   "source": [
    "female_data_click = advert['Gender'][(advert['Gender']==0) & (advert['Clicked on Ad']==0)].shape[0]\n",
    "female_data_click"
   ]
  },
  {
   "cell_type": "code",
   "execution_count": 26,
   "metadata": {},
   "outputs": [
    {
     "data": {
      "text/plain": [
       "229"
      ]
     },
     "execution_count": 26,
     "metadata": {},
     "output_type": "execute_result"
    }
   ],
   "source": [
    "female_data_noclick = advert['Gender'][(advert['Gender']==0) & (advert['Clicked on Ad']==0)].shape[0]\n",
    "female_data_noclick"
   ]
  },
  {
   "cell_type": "code",
   "execution_count": 27,
   "metadata": {},
   "outputs": [],
   "source": [
    "gender_onclick_data = pd.DataFrame()"
   ]
  },
  {
   "cell_type": "code",
   "execution_count": 28,
   "metadata": {},
   "outputs": [],
   "source": [
    "gender_onclick_data['Not_Click_AD'] = [male_data_noclick, female_data_noclick]"
   ]
  },
  {
   "cell_type": "code",
   "execution_count": 29,
   "metadata": {},
   "outputs": [
    {
     "data": {
      "text/html": [
       "<div>\n",
       "<style scoped>\n",
       "    .dataframe tbody tr th:only-of-type {\n",
       "        vertical-align: middle;\n",
       "    }\n",
       "\n",
       "    .dataframe tbody tr th {\n",
       "        vertical-align: top;\n",
       "    }\n",
       "\n",
       "    .dataframe thead th {\n",
       "        text-align: right;\n",
       "    }\n",
       "</style>\n",
       "<table border=\"1\" class=\"dataframe\">\n",
       "  <thead>\n",
       "    <tr style=\"text-align: right;\">\n",
       "      <th></th>\n",
       "      <th>Not_Click_AD</th>\n",
       "    </tr>\n",
       "  </thead>\n",
       "  <tbody>\n",
       "    <tr>\n",
       "      <th>0</th>\n",
       "      <td>232</td>\n",
       "    </tr>\n",
       "    <tr>\n",
       "      <th>1</th>\n",
       "      <td>229</td>\n",
       "    </tr>\n",
       "  </tbody>\n",
       "</table>\n",
       "</div>"
      ],
      "text/plain": [
       "   Not_Click_AD\n",
       "0           232\n",
       "1           229"
      ]
     },
     "execution_count": 29,
     "metadata": {},
     "output_type": "execute_result"
    }
   ],
   "source": [
    "gender_onclick_data"
   ]
  },
  {
   "cell_type": "code",
   "execution_count": 30,
   "metadata": {},
   "outputs": [],
   "source": [
    "gender_onclick_data['Click_AD'] = [male_data_click, female_data_click]"
   ]
  },
  {
   "cell_type": "code",
   "execution_count": 31,
   "metadata": {},
   "outputs": [
    {
     "data": {
      "text/html": [
       "<div>\n",
       "<style scoped>\n",
       "    .dataframe tbody tr th:only-of-type {\n",
       "        vertical-align: middle;\n",
       "    }\n",
       "\n",
       "    .dataframe tbody tr th {\n",
       "        vertical-align: top;\n",
       "    }\n",
       "\n",
       "    .dataframe thead th {\n",
       "        text-align: right;\n",
       "    }\n",
       "</style>\n",
       "<table border=\"1\" class=\"dataframe\">\n",
       "  <thead>\n",
       "    <tr style=\"text-align: right;\">\n",
       "      <th></th>\n",
       "      <th>Not_Click_AD</th>\n",
       "      <th>Click_AD</th>\n",
       "    </tr>\n",
       "  </thead>\n",
       "  <tbody>\n",
       "    <tr>\n",
       "      <th>0</th>\n",
       "      <td>232</td>\n",
       "      <td>203</td>\n",
       "    </tr>\n",
       "    <tr>\n",
       "      <th>1</th>\n",
       "      <td>229</td>\n",
       "      <td>229</td>\n",
       "    </tr>\n",
       "  </tbody>\n",
       "</table>\n",
       "</div>"
      ],
      "text/plain": [
       "   Not_Click_AD  Click_AD\n",
       "0           232       203\n",
       "1           229       229"
      ]
     },
     "execution_count": 31,
     "metadata": {},
     "output_type": "execute_result"
    }
   ],
   "source": [
    "gender_onclick_data"
   ]
  },
  {
   "cell_type": "code",
   "execution_count": 32,
   "metadata": {},
   "outputs": [],
   "source": [
    "import seaborn as sns"
   ]
  },
  {
   "cell_type": "code",
   "execution_count": 33,
   "metadata": {},
   "outputs": [
    {
     "data": {
      "image/png": "[encoded data removed]",
      "text/plain": [
       "<Figure size 842.4x595.44 with 1 Axes>"
      ]
     },
     "metadata": {},
     "output_type": "display_data"
    }
   ],
   "source": [
    "sns.set(rc={'figure.figsize':(11.7,8.27)})\n",
    "gender_onclick_data.plot(kind='bar', stacked=True)\n",
    "plt.xticks(rotation=0)\n",
    "plt.xlabel('Gender Data', fontdict=font)\n",
    "plt.ylabel('Number of persons', fontdict=font)\n",
    "plt.title('Gender vs Click Ratio', fontdict=font)\n",
    "plt.savefig('Gender-vs-Click-Ratio.png')"
   ]
  },
  {
   "cell_type": "code",
   "execution_count": 34,
   "metadata": {},
   "outputs": [
    {
     "data": {
      "image/png": "[encoded data removed]",
      "text/plain": [
       "<Figure size 1008x864 with 2 Axes>"
      ]
     },
     "metadata": {},
     "output_type": "display_data"
    }
   ],
   "source": [
    "plt.figure(figsize=(14,12))\n",
    "plt.title('Survival Correlation', fontdict=font)\n",
    "sns.heatmap(advert.corr(), linewidths=0.1, linecolor='white', annot=True)\n",
    "plt.savefig('Advert-Columns-Correlation.png')"
   ]
  },
  {
   "cell_type": "code",
   "execution_count": 35,
   "metadata": {},
   "outputs": [
    {
     "data": {
      "text/plain": [
       "Daily Time Spent on Site    0\n",
       "Age                         0\n",
       "Area Income                 0\n",
       "Daily Internet Usage        0\n",
       "Ad Topic Line               0\n",
       "City                        0\n",
       "Gender                      0\n",
       "Country                     0\n",
       "Timestamp                   0\n",
       "Clicked on Ad               0\n",
       "dtype: int64"
      ]
     },
     "execution_count": 35,
     "metadata": {},
     "output_type": "execute_result"
    }
   ],
   "source": [
    "advert.isnull().sum()"
   ]
  },
  {
   "cell_type": "code",
   "execution_count": 36,
   "metadata": {},
   "outputs": [],
   "source": [
    "from sklearn.linear_model import LogisticRegression\n",
    "logistic_model=LogisticRegression()"
   ]
  },
  {
   "cell_type": "code",
   "execution_count": 37,
   "metadata": {},
   "outputs": [],
   "source": [
    "training_data=advert[['Gender','Age','Daily Internet Usage','Daily Time Spent on Site',]]"
   ]
  },
  {
   "cell_type": "code",
   "execution_count": 38,
   "metadata": {},
   "outputs": [
    {
     "data": {
      "text/html": [
       "<div>\n",
       "<style scoped>\n",
       "    .dataframe tbody tr th:only-of-type {\n",
       "        vertical-align: middle;\n",
       "    }\n",
       "\n",
       "    .dataframe tbody tr th {\n",
       "        vertical-align: top;\n",
       "    }\n",
       "\n",
       "    .dataframe thead th {\n",
       "        text-align: right;\n",
       "    }\n",
       "</style>\n",
       "<table border=\"1\" class=\"dataframe\">\n",
       "  <thead>\n",
       "    <tr style=\"text-align: right;\">\n",
       "      <th></th>\n",
       "      <th>Gender</th>\n",
       "      <th>Age</th>\n",
       "      <th>Daily Internet Usage</th>\n",
       "      <th>Daily Time Spent on Site</th>\n",
       "    </tr>\n",
       "  </thead>\n",
       "  <tbody>\n",
       "    <tr>\n",
       "      <th>0</th>\n",
       "      <td>0</td>\n",
       "      <td>35</td>\n",
       "      <td>256.09</td>\n",
       "      <td>68.95</td>\n",
       "    </tr>\n",
       "    <tr>\n",
       "      <th>1</th>\n",
       "      <td>1</td>\n",
       "      <td>31</td>\n",
       "      <td>193.77</td>\n",
       "      <td>80.23</td>\n",
       "    </tr>\n",
       "    <tr>\n",
       "      <th>2</th>\n",
       "      <td>0</td>\n",
       "      <td>26</td>\n",
       "      <td>236.50</td>\n",
       "      <td>69.47</td>\n",
       "    </tr>\n",
       "    <tr>\n",
       "      <th>3</th>\n",
       "      <td>1</td>\n",
       "      <td>29</td>\n",
       "      <td>245.89</td>\n",
       "      <td>74.15</td>\n",
       "    </tr>\n",
       "    <tr>\n",
       "      <th>4</th>\n",
       "      <td>0</td>\n",
       "      <td>35</td>\n",
       "      <td>225.58</td>\n",
       "      <td>68.37</td>\n",
       "    </tr>\n",
       "  </tbody>\n",
       "</table>\n",
       "</div>"
      ],
      "text/plain": [
       "   Gender  Age  Daily Internet Usage  Daily Time Spent on Site\n",
       "0       0   35                256.09                     68.95\n",
       "1       1   31                193.77                     80.23\n",
       "2       0   26                236.50                     69.47\n",
       "3       1   29                245.89                     74.15\n",
       "4       0   35                225.58                     68.37"
      ]
     },
     "execution_count": 38,
     "metadata": {},
     "output_type": "execute_result"
    }
   ],
   "source": [
    "training_data.head()"
   ]
  },
  {
   "cell_type": "code",
   "execution_count": 39,
   "metadata": {},
   "outputs": [
    {
     "data": {
      "text/plain": [
       "Gender                      0\n",
       "Age                         0\n",
       "Daily Internet Usage        0\n",
       "Daily Time Spent on Site    0\n",
       "dtype: int64"
      ]
     },
     "execution_count": 39,
     "metadata": {},
     "output_type": "execute_result"
    }
   ],
   "source": [
    "training_data.isnull().sum()"
   ]
  },
  {
   "cell_type": "code",
   "execution_count": 40,
   "metadata": {},
   "outputs": [],
   "source": [
    "output_data = advert['Clicked on Ad']"
   ]
  },
  {
   "cell_type": "code",
   "execution_count": 41,
   "metadata": {},
   "outputs": [
    {
     "data": {
      "text/plain": [
       "0    0\n",
       "1    0\n",
       "2    0\n",
       "3    0\n",
       "4    0\n",
       "5    0\n",
       "6    0\n",
       "7    1\n",
       "8    0\n",
       "9    0\n",
       "Name: Clicked on Ad, dtype: int64"
      ]
     },
     "execution_count": 41,
     "metadata": {},
     "output_type": "execute_result"
    }
   ],
   "source": [
    "output_data.head(10)"
   ]
  },
  {
   "cell_type": "code",
   "execution_count": 42,
   "metadata": {},
   "outputs": [
    {
     "data": {
      "text/plain": [
       "900"
      ]
     },
     "execution_count": 42,
     "metadata": {},
     "output_type": "execute_result"
    }
   ],
   "source": [
    "training_data.shape[0]"
   ]
  },
  {
   "cell_type": "code",
   "execution_count": 43,
   "metadata": {},
   "outputs": [],
   "source": [
    "from sklearn.model_selection import train_test_split"
   ]
  },
  {
   "cell_type": "code",
   "execution_count": 44,
   "metadata": {},
   "outputs": [],
   "source": [
    "X, x_test, Y, y_test = train_test_split(training_data, output_data, test_size=0.4, random_state=42)"
   ]
  },
  {
   "cell_type": "code",
   "execution_count": 45,
   "metadata": {},
   "outputs": [
    {
     "data": {
      "text/plain": [
       "70     1\n",
       "827    1\n",
       "231    1\n",
       "588    0\n",
       "39     1\n",
       "Name: Clicked on Ad, dtype: int64"
      ]
     },
     "execution_count": 45,
     "metadata": {},
     "output_type": "execute_result"
    }
   ],
   "source": [
    "y_test.head()"
   ]
  },
  {
   "cell_type": "code",
   "execution_count": 46,
   "metadata": {},
   "outputs": [
    {
     "name": "stderr",
     "output_type": "stream",
     "text": [
      "C:\\Users\\Vikas\\Anaconda3\\lib\\site-packages\\sklearn\\linear_model\\logistic.py:433: FutureWarning: Default solver will be changed to 'lbfgs' in 0.22. Specify a solver to silence this warning.\n",
      "  FutureWarning)\n"
     ]
    },
    {
     "data": {
      "text/plain": [
       "LogisticRegression(C=1.0, class_weight=None, dual=False, fit_intercept=True,\n",
       "          intercept_scaling=1, max_iter=100, multi_class='warn',\n",
       "          n_jobs=None, penalty='l2', random_state=None, solver='warn',\n",
       "          tol=0.0001, verbose=0, warm_start=False)"
      ]
     },
     "execution_count": 46,
     "metadata": {},
     "output_type": "execute_result"
    }
   ],
   "source": [
    "logistic_model.fit(X, Y)"
   ]
  },
  {
   "cell_type": "code",
   "execution_count": 47,
   "metadata": {},
   "outputs": [
    {
     "data": {
      "text/plain": [
       "array([[ 0.04863105,  0.16940792, -0.03384029, -0.07977726]])"
      ]
     },
     "execution_count": 47,
     "metadata": {},
     "output_type": "execute_result"
    }
   ],
   "source": [
    "logistic_model.coef_"
   ]
  },
  {
   "cell_type": "code",
   "execution_count": 48,
   "metadata": {},
   "outputs": [],
   "source": [
    "details = pd.DataFrame(logistic_model.coef_.T, index=training_data.columns, columns=['Values'])"
   ]
  },
  {
   "cell_type": "code",
   "execution_count": 49,
   "metadata": {},
   "outputs": [
    {
     "data": {
      "text/html": [
       "<div>\n",
       "<style scoped>\n",
       "    .dataframe tbody tr th:only-of-type {\n",
       "        vertical-align: middle;\n",
       "    }\n",
       "\n",
       "    .dataframe tbody tr th {\n",
       "        vertical-align: top;\n",
       "    }\n",
       "\n",
       "    .dataframe thead th {\n",
       "        text-align: right;\n",
       "    }\n",
       "</style>\n",
       "<table border=\"1\" class=\"dataframe\">\n",
       "  <thead>\n",
       "    <tr style=\"text-align: right;\">\n",
       "      <th></th>\n",
       "      <th>Values</th>\n",
       "    </tr>\n",
       "  </thead>\n",
       "  <tbody>\n",
       "    <tr>\n",
       "      <th>Gender</th>\n",
       "      <td>0.048631</td>\n",
       "    </tr>\n",
       "    <tr>\n",
       "      <th>Age</th>\n",
       "      <td>0.169408</td>\n",
       "    </tr>\n",
       "    <tr>\n",
       "      <th>Daily Internet Usage</th>\n",
       "      <td>-0.033840</td>\n",
       "    </tr>\n",
       "    <tr>\n",
       "      <th>Daily Time Spent on Site</th>\n",
       "      <td>-0.079777</td>\n",
       "    </tr>\n",
       "  </tbody>\n",
       "</table>\n",
       "</div>"
      ],
      "text/plain": [
       "                            Values\n",
       "Gender                    0.048631\n",
       "Age                       0.169408\n",
       "Daily Internet Usage     -0.033840\n",
       "Daily Time Spent on Site -0.079777"
      ]
     },
     "execution_count": 49,
     "metadata": {},
     "output_type": "execute_result"
    }
   ],
   "source": [
    "details"
   ]
  },
  {
   "cell_type": "code",
   "execution_count": 50,
   "metadata": {},
   "outputs": [
    {
     "data": {
      "image/png": "[encoded data removed]",
      "text/plain": [
       "<Figure size 720x360 with 1 Axes>"
      ]
     },
     "metadata": {},
     "output_type": "display_data"
    }
   ],
   "source": [
    "plt.figure(figsize=(10, 5))\n",
    "plt.xlabel('Columns Names', fontdict=font)\n",
    "plt.ylabel('Value of Coefficients', fontdict=font)\n",
    "plt.title('Column Coefficient', fontdict=font)\n",
    "plt.bar(x=details.index, height=details['Values'])\n",
    "plt.savefig('Column-vs-Coefficients.png')"
   ]
  },
  {
   "cell_type": "code",
   "execution_count": 51,
   "metadata": {},
   "outputs": [],
   "source": [
    "single_prediction = logistic_model.predict([[1, 55, 230, 70]])"
   ]
  },
  {
   "cell_type": "code",
   "execution_count": 52,
   "metadata": {},
   "outputs": [
    {
     "data": {
      "text/plain": [
       "array([1], dtype=int64)"
      ]
     },
     "execution_count": 52,
     "metadata": {},
     "output_type": "execute_result"
    }
   ],
   "source": [
    "single_prediction"
   ]
  },
  {
   "cell_type": "code",
   "execution_count": 53,
   "metadata": {},
   "outputs": [],
   "source": [
    "training_prediction=logistic_model.predict(x_test)"
   ]
  },
  {
   "cell_type": "code",
   "execution_count": 54,
   "metadata": {},
   "outputs": [
    {
     "data": {
      "text/plain": [
       "array([1, 1, 1, 0, 1], dtype=int64)"
      ]
     },
     "execution_count": 54,
     "metadata": {},
     "output_type": "execute_result"
    }
   ],
   "source": [
    "training_prediction[0:5]"
   ]
  },
  {
   "cell_type": "code",
   "execution_count": 55,
   "metadata": {},
   "outputs": [],
   "source": [
    "from sklearn.metrics import accuracy_score,confusion_matrix"
   ]
  },
  {
   "cell_type": "code",
   "execution_count": 56,
   "metadata": {},
   "outputs": [],
   "source": [
    "training_accuracy=accuracy_score(training_prediction,y_test)"
   ]
  },
  {
   "cell_type": "code",
   "execution_count": 57,
   "metadata": {},
   "outputs": [
    {
     "data": {
      "text/plain": [
       "0.9388888888888889"
      ]
     },
     "execution_count": 57,
     "metadata": {},
     "output_type": "execute_result"
    }
   ],
   "source": [
    "training_accuracy"
   ]
  },
  {
   "cell_type": "code",
   "execution_count": 58,
   "metadata": {},
   "outputs": [
    {
     "data": {
      "text/html": [
       "<div>\n",
       "<style scoped>\n",
       "    .dataframe tbody tr th:only-of-type {\n",
       "        vertical-align: middle;\n",
       "    }\n",
       "\n",
       "    .dataframe tbody tr th {\n",
       "        vertical-align: top;\n",
       "    }\n",
       "\n",
       "    .dataframe thead th {\n",
       "        text-align: right;\n",
       "    }\n",
       "</style>\n",
       "<table border=\"1\" class=\"dataframe\">\n",
       "  <thead>\n",
       "    <tr style=\"text-align: right;\">\n",
       "      <th></th>\n",
       "      <th>Daily Time Spent on Site</th>\n",
       "      <th>Age</th>\n",
       "      <th>Area Income</th>\n",
       "      <th>Daily Internet Usage</th>\n",
       "      <th>Ad Topic Line</th>\n",
       "      <th>City</th>\n",
       "      <th>Male</th>\n",
       "      <th>Country</th>\n",
       "      <th>Timestamp</th>\n",
       "    </tr>\n",
       "  </thead>\n",
       "  <tbody>\n",
       "    <tr>\n",
       "      <th>0</th>\n",
       "      <td>50.78</td>\n",
       "      <td>51</td>\n",
       "      <td>49957.00</td>\n",
       "      <td>122.04</td>\n",
       "      <td>Vision-oriented asynchronous Internet solution</td>\n",
       "      <td>West David</td>\n",
       "      <td>0</td>\n",
       "      <td>Liberia</td>\n",
       "      <td>11/02/2016 17:02</td>\n",
       "    </tr>\n",
       "    <tr>\n",
       "      <th>1</th>\n",
       "      <td>40.47</td>\n",
       "      <td>38</td>\n",
       "      <td>24078.93</td>\n",
       "      <td>203.90</td>\n",
       "      <td>Sharable 5thgeneration access</td>\n",
       "      <td>Fraziershire</td>\n",
       "      <td>0</td>\n",
       "      <td>Burundi</td>\n",
       "      <td>22/07/2016 7:44</td>\n",
       "    </tr>\n",
       "    <tr>\n",
       "      <th>2</th>\n",
       "      <td>45.62</td>\n",
       "      <td>43</td>\n",
       "      <td>53647.81</td>\n",
       "      <td>121.28</td>\n",
       "      <td>Monitored homogeneous artificial intelligence</td>\n",
       "      <td>Robertfurt</td>\n",
       "      <td>0</td>\n",
       "      <td>Macao</td>\n",
       "      <td>26/06/2016 2:34</td>\n",
       "    </tr>\n",
       "    <tr>\n",
       "      <th>3</th>\n",
       "      <td>84.76</td>\n",
       "      <td>30</td>\n",
       "      <td>61039.13</td>\n",
       "      <td>178.69</td>\n",
       "      <td>Monitored 24/7 moratorium</td>\n",
       "      <td>South Pamela</td>\n",
       "      <td>0</td>\n",
       "      <td>Venezuela</td>\n",
       "      <td>14/05/2016 23:08</td>\n",
       "    </tr>\n",
       "    <tr>\n",
       "      <th>4</th>\n",
       "      <td>80.64</td>\n",
       "      <td>26</td>\n",
       "      <td>46974.15</td>\n",
       "      <td>221.59</td>\n",
       "      <td>Vision-oriented real-time framework</td>\n",
       "      <td>North Laurenview</td>\n",
       "      <td>0</td>\n",
       "      <td>Luxembourg</td>\n",
       "      <td>24/05/2016 10:04</td>\n",
       "    </tr>\n",
       "  </tbody>\n",
       "</table>\n",
       "</div>"
      ],
      "text/plain": [
       "   Daily Time Spent on Site  Age  Area Income  Daily Internet Usage  \\\n",
       "0                     50.78   51     49957.00                122.04   \n",
       "1                     40.47   38     24078.93                203.90   \n",
       "2                     45.62   43     53647.81                121.28   \n",
       "3                     84.76   30     61039.13                178.69   \n",
       "4                     80.64   26     46974.15                221.59   \n",
       "\n",
       "                                    Ad Topic Line              City  Male  \\\n",
       "0  Vision-oriented asynchronous Internet solution        West David     0   \n",
       "1                   Sharable 5thgeneration access      Fraziershire     0   \n",
       "2   Monitored homogeneous artificial intelligence        Robertfurt     0   \n",
       "3                       Monitored 24/7 moratorium      South Pamela     0   \n",
       "4             Vision-oriented real-time framework  North Laurenview     0   \n",
       "\n",
       "      Country         Timestamp  \n",
       "0     Liberia  11/02/2016 17:02  \n",
       "1     Burundi   22/07/2016 7:44  \n",
       "2       Macao   26/06/2016 2:34  \n",
       "3   Venezuela  14/05/2016 23:08  \n",
       "4  Luxembourg  24/05/2016 10:04  "
      ]
     },
     "execution_count": 58,
     "metadata": {},
     "output_type": "execute_result"
    }
   ],
   "source": [
    "test_data = pd.read_csv('test.csv')\n",
    "test_data.head()"
   ]
  },
  {
   "cell_type": "code",
   "execution_count": 59,
   "metadata": {},
   "outputs": [],
   "source": [
    "test_data.rename(columns={'Male':'Gender'}, inplace=True)"
   ]
  },
  {
   "cell_type": "code",
   "execution_count": 60,
   "metadata": {},
   "outputs": [
    {
     "data": {
      "text/html": [
       "<div>\n",
       "<style scoped>\n",
       "    .dataframe tbody tr th:only-of-type {\n",
       "        vertical-align: middle;\n",
       "    }\n",
       "\n",
       "    .dataframe tbody tr th {\n",
       "        vertical-align: top;\n",
       "    }\n",
       "\n",
       "    .dataframe thead th {\n",
       "        text-align: right;\n",
       "    }\n",
       "</style>\n",
       "<table border=\"1\" class=\"dataframe\">\n",
       "  <thead>\n",
       "    <tr style=\"text-align: right;\">\n",
       "      <th></th>\n",
       "      <th>Gender</th>\n",
       "      <th>Age</th>\n",
       "      <th>Daily Internet Usage</th>\n",
       "      <th>Daily Time Spent on Site</th>\n",
       "    </tr>\n",
       "  </thead>\n",
       "  <tbody>\n",
       "    <tr>\n",
       "      <th>0</th>\n",
       "      <td>0</td>\n",
       "      <td>51</td>\n",
       "      <td>122.04</td>\n",
       "      <td>50.78</td>\n",
       "    </tr>\n",
       "    <tr>\n",
       "      <th>1</th>\n",
       "      <td>0</td>\n",
       "      <td>38</td>\n",
       "      <td>203.90</td>\n",
       "      <td>40.47</td>\n",
       "    </tr>\n",
       "    <tr>\n",
       "      <th>2</th>\n",
       "      <td>0</td>\n",
       "      <td>43</td>\n",
       "      <td>121.28</td>\n",
       "      <td>45.62</td>\n",
       "    </tr>\n",
       "    <tr>\n",
       "      <th>3</th>\n",
       "      <td>0</td>\n",
       "      <td>30</td>\n",
       "      <td>178.69</td>\n",
       "      <td>84.76</td>\n",
       "    </tr>\n",
       "    <tr>\n",
       "      <th>4</th>\n",
       "      <td>0</td>\n",
       "      <td>26</td>\n",
       "      <td>221.59</td>\n",
       "      <td>80.64</td>\n",
       "    </tr>\n",
       "  </tbody>\n",
       "</table>\n",
       "</div>"
      ],
      "text/plain": [
       "   Gender  Age  Daily Internet Usage  Daily Time Spent on Site\n",
       "0       0   51                122.04                     50.78\n",
       "1       0   38                203.90                     40.47\n",
       "2       0   43                121.28                     45.62\n",
       "3       0   30                178.69                     84.76\n",
       "4       0   26                221.59                     80.64"
      ]
     },
     "execution_count": 60,
     "metadata": {},
     "output_type": "execute_result"
    }
   ],
   "source": [
    "test_data=test_data[['Gender','Age','Daily Internet Usage','Daily Time Spent on Site',]]\n",
    "test_data.head()"
   ]
  },
  {
   "cell_type": "code",
   "execution_count": 61,
   "metadata": {},
   "outputs": [],
   "source": [
    "from sklearn.preprocessing import Imputer"
   ]
  },
  {
   "cell_type": "code",
   "execution_count": 62,
   "metadata": {},
   "outputs": [],
   "source": [
    "test_data_imputed = test_data"
   ]
  },
  {
   "cell_type": "code",
   "execution_count": 63,
   "metadata": {},
   "outputs": [
    {
     "name": "stderr",
     "output_type": "stream",
     "text": [
      "C:\\Users\\Vikas\\Anaconda3\\lib\\site-packages\\sklearn\\utils\\deprecation.py:58: DeprecationWarning: Class Imputer is deprecated; Imputer was deprecated in version 0.20 and will be removed in 0.22. Import impute.SimpleImputer from sklearn instead.\n",
      "  warnings.warn(msg, category=DeprecationWarning)\n"
     ]
    }
   ],
   "source": [
    "imputer = Imputer(strategy='most_frequent')"
   ]
  },
  {
   "cell_type": "code",
   "execution_count": 64,
   "metadata": {},
   "outputs": [
    {
     "data": {
      "text/plain": [
       "Imputer(axis=0, copy=True, missing_values='NaN', strategy='most_frequent',\n",
       "    verbose=0)"
      ]
     },
     "execution_count": 64,
     "metadata": {},
     "output_type": "execute_result"
    }
   ],
   "source": [
    "imputer.fit(test_data_imputed)"
   ]
  },
  {
   "cell_type": "code",
   "execution_count": 65,
   "metadata": {},
   "outputs": [
    {
     "data": {
      "text/plain": [
       "array([  0.  ,  31.  , 105.04,  32.6 ])"
      ]
     },
     "execution_count": 65,
     "metadata": {},
     "output_type": "execute_result"
    }
   ],
   "source": [
    "imputer.statistics_"
   ]
  },
  {
   "cell_type": "code",
   "execution_count": 66,
   "metadata": {},
   "outputs": [],
   "source": [
    "test_data_predicion = imputer.transform(test_data_imputed)"
   ]
  },
  {
   "cell_type": "code",
   "execution_count": 67,
   "metadata": {},
   "outputs": [
    {
     "data": {
      "text/plain": [
       "array([[  0.  ,  51.  , 122.04,  50.78],\n",
       "       [  0.  ,  38.  , 203.9 ,  40.47],\n",
       "       [  0.  ,  43.  , 121.28,  45.62],\n",
       "       [  0.  ,  30.  , 178.69,  84.76],\n",
       "       [  0.  ,  26.  , 221.59,  80.64],\n",
       "       [  1.  ,  27.  , 236.96,  75.94],\n",
       "       [  0.  ,  50.  , 216.01,  37.01],\n",
       "       [  0.  ,  31.  , 193.6 ,  87.18],\n",
       "       [  0.  ,  50.  , 146.44,  56.91],\n",
       "       [  0.  ,  24.  , 226.49,  75.24],\n",
       "       [  1.  ,  52.  , 182.2 ,  42.84],\n",
       "       [  0.  ,  47.  , 109.98,  67.56],\n",
       "       [  1.  ,  42.  , 160.49,  34.96],\n",
       "       [  1.  ,  37.  , 211.56,  87.46],\n",
       "       [  1.  ,  39.  , 128.62,  41.86],\n",
       "       [  1.  ,  34.  , 174.88,  34.04],\n",
       "       [  1.  ,  42.  , 113.75,  54.96],\n",
       "       [  1.  ,  31.  , 199.4 ,  87.14],\n",
       "       [  1.  ,  32.  , 215.29,  78.79],\n",
       "       [  1.  ,  25.  , 181.25,  65.56],\n",
       "       [  0.  ,  34.  , 245.5 ,  81.05],\n",
       "       [  1.  ,  37.  , 112.52,  55.71],\n",
       "       [  1.  ,  49.  , 129.16,  45.48],\n",
       "       [  0.  ,  56.  , 149.53,  47.  ],\n",
       "       [  1.  ,  51.  , 153.12,  59.64],\n",
       "       [  0.  ,  45.  , 150.79,  35.98],\n",
       "       [  0.  ,  22.  , 202.34,  72.55],\n",
       "       [  0.  ,  38.  , 184.98,  91.15],\n",
       "       [  0.  ,  29.  , 187.64,  80.53],\n",
       "       [  0.  ,  45.  , 130.84,  82.49],\n",
       "       [  0.  ,  36.  , 239.94,  80.94],\n",
       "       [  0.  ,  34.  , 114.69,  61.76],\n",
       "       [  0.  ,  38.  , 116.19,  63.3 ],\n",
       "       [  1.  ,  34.  , 149.79,  36.73],\n",
       "       [  1.  ,  33.  , 248.23,  78.41],\n",
       "       [  0.  ,  36.  , 194.62,  83.98],\n",
       "       [  0.  ,  45.  , 107.92,  63.18],\n",
       "       [  0.  ,  48.  , 135.67,  50.6 ],\n",
       "       [  0.  ,  38.  , 190.05,  32.6 ],\n",
       "       [  1.  ,  19.  , 185.46,  60.83],\n",
       "       [  1.  ,  46.  , 123.86,  44.72],\n",
       "       [  0.  ,  51.  , 162.05,  78.76],\n",
       "       [  1.  ,  39.  , 125.11,  79.51],\n",
       "       [  0.  ,  32.  , 145.73,  39.3 ],\n",
       "       [  0.  ,  30.  , 116.07,  64.79],\n",
       "       [  0.  ,  36.  , 198.24,  89.8 ],\n",
       "       [  1.  ,  34.  , 191.82,  72.82],\n",
       "       [  1.  ,  31.  , 154.77,  38.65],\n",
       "       [  1.  ,  30.  , 178.75,  59.01],\n",
       "       [  0.  ,  50.  , 193.15,  78.96],\n",
       "       [  0.  ,  43.  , 138.46,  63.99],\n",
       "       [  1.  ,  27.  , 162.46,  41.35],\n",
       "       [  1.  ,  36.  , 231.87,  62.79],\n",
       "       [  0.  ,  29.  , 141.58,  45.53],\n",
       "       [  0.  ,  31.  , 249.99,  51.65],\n",
       "       [  0.  ,  44.  , 109.04,  54.55],\n",
       "       [  0.  ,  36.  , 172.57,  35.66],\n",
       "       [  0.  ,  28.  , 247.01,  69.95],\n",
       "       [  1.  ,  29.  , 234.23,  79.83],\n",
       "       [  1.  ,  37.  , 161.42,  85.35],\n",
       "       [  0.  ,  28.  , 124.32,  56.78],\n",
       "       [  0.  ,  26.  , 195.56,  78.67],\n",
       "       [  0.  ,  21.  , 211.17,  70.09],\n",
       "       [  1.  ,  42.  , 247.05,  60.75],\n",
       "       [  0.  ,  24.  , 233.85,  65.07],\n",
       "       [  0.  ,  50.  , 194.44,  35.25],\n",
       "       [  1.  ,  52.  , 176.7 ,  37.58],\n",
       "       [  1.  ,  25.  , 188.32,  68.01],\n",
       "       [  0.  ,  38.  , 125.27,  45.08],\n",
       "       [  0.  ,  27.  , 159.05,  63.04],\n",
       "       [  0.  ,  29.  , 151.96,  40.18],\n",
       "       [  1.  ,  48.  , 132.07,  45.17],\n",
       "       [  0.  ,  50.  , 162.43,  50.48],\n",
       "       [  0.  ,  28.  , 203.3 ,  80.87],\n",
       "       [  1.  ,  40.  , 126.11,  41.88],\n",
       "       [  1.  ,  48.  , 139.34,  39.87],\n",
       "       [  1.  ,  45.  , 105.63,  61.84],\n",
       "       [  1.  ,  31.  , 116.38,  54.97],\n",
       "       [  0.  ,  30.  , 166.31,  71.4 ],\n",
       "       [  1.  ,  31.  , 254.65,  70.29],\n",
       "       [  1.  ,  57.  , 168.41,  67.26],\n",
       "       [  0.  ,  46.  , 258.26,  76.58],\n",
       "       [  0.  ,  38.  , 140.77,  54.37],\n",
       "       [  1.  ,  32.  , 234.81,  82.79],\n",
       "       [  1.  ,  31.  , 256.39,  66.47],\n",
       "       [  0.  ,  44.  , 125.12,  72.88],\n",
       "       [  1.  ,  28.  , 232.68,  76.44],\n",
       "       [  1.  ,  43.  , 105.04,  63.37],\n",
       "       [  1.  ,  48.  , 204.4 ,  89.71],\n",
       "       [  0.  ,  31.  , 256.4 ,  70.96],\n",
       "       [  1.  ,  44.  , 165.62,  35.79],\n",
       "       [  1.  ,  38.  , 140.67,  38.96],\n",
       "       [  0.  ,  40.  , 123.62,  69.17],\n",
       "       [  1.  ,  27.  , 227.63,  64.2 ],\n",
       "       [  0.  ,  28.  , 173.01,  43.7 ],\n",
       "       [  1.  ,  30.  , 208.58,  72.97],\n",
       "       [  1.  ,  45.  , 134.42,  51.3 ],\n",
       "       [  1.  ,  51.  , 120.37,  51.63],\n",
       "       [  0.  ,  19.  , 187.95,  55.55],\n",
       "       [  0.  ,  26.  , 178.35,  45.01]])"
      ]
     },
     "execution_count": 67,
     "metadata": {},
     "output_type": "execute_result"
    }
   ],
   "source": [
    "test_data_predicion\n"
   ]
  },
  {
   "cell_type": "code",
   "execution_count": 68,
   "metadata": {},
   "outputs": [],
   "source": [
    "test_data_imputed = pd.DataFrame(test_data_predicion, columns=test_data.columns)"
   ]
  },
  {
   "cell_type": "code",
   "execution_count": 69,
   "metadata": {},
   "outputs": [
    {
     "data": {
      "text/html": [
       "<div>\n",
       "<style scoped>\n",
       "    .dataframe tbody tr th:only-of-type {\n",
       "        vertical-align: middle;\n",
       "    }\n",
       "\n",
       "    .dataframe tbody tr th {\n",
       "        vertical-align: top;\n",
       "    }\n",
       "\n",
       "    .dataframe thead th {\n",
       "        text-align: right;\n",
       "    }\n",
       "</style>\n",
       "<table border=\"1\" class=\"dataframe\">\n",
       "  <thead>\n",
       "    <tr style=\"text-align: right;\">\n",
       "      <th></th>\n",
       "      <th>Gender</th>\n",
       "      <th>Age</th>\n",
       "      <th>Daily Internet Usage</th>\n",
       "      <th>Daily Time Spent on Site</th>\n",
       "    </tr>\n",
       "  </thead>\n",
       "  <tbody>\n",
       "    <tr>\n",
       "      <th>0</th>\n",
       "      <td>0.0</td>\n",
       "      <td>51.0</td>\n",
       "      <td>122.04</td>\n",
       "      <td>50.78</td>\n",
       "    </tr>\n",
       "    <tr>\n",
       "      <th>1</th>\n",
       "      <td>0.0</td>\n",
       "      <td>38.0</td>\n",
       "      <td>203.90</td>\n",
       "      <td>40.47</td>\n",
       "    </tr>\n",
       "    <tr>\n",
       "      <th>2</th>\n",
       "      <td>0.0</td>\n",
       "      <td>43.0</td>\n",
       "      <td>121.28</td>\n",
       "      <td>45.62</td>\n",
       "    </tr>\n",
       "    <tr>\n",
       "      <th>3</th>\n",
       "      <td>0.0</td>\n",
       "      <td>30.0</td>\n",
       "      <td>178.69</td>\n",
       "      <td>84.76</td>\n",
       "    </tr>\n",
       "    <tr>\n",
       "      <th>4</th>\n",
       "      <td>0.0</td>\n",
       "      <td>26.0</td>\n",
       "      <td>221.59</td>\n",
       "      <td>80.64</td>\n",
       "    </tr>\n",
       "  </tbody>\n",
       "</table>\n",
       "</div>"
      ],
      "text/plain": [
       "   Gender   Age  Daily Internet Usage  Daily Time Spent on Site\n",
       "0     0.0  51.0                122.04                     50.78\n",
       "1     0.0  38.0                203.90                     40.47\n",
       "2     0.0  43.0                121.28                     45.62\n",
       "3     0.0  30.0                178.69                     84.76\n",
       "4     0.0  26.0                221.59                     80.64"
      ]
     },
     "execution_count": 69,
     "metadata": {},
     "output_type": "execute_result"
    }
   ],
   "source": [
    "test_data_imputed.head()"
   ]
  },
  {
   "cell_type": "code",
   "execution_count": 70,
   "metadata": {},
   "outputs": [],
   "source": [
    "test_prediction = logistic_model.predict(test_data_imputed)"
   ]
  },
  {
   "cell_type": "code",
   "execution_count": 71,
   "metadata": {},
   "outputs": [
    {
     "data": {
      "text/plain": [
       "array([1, 1, 1, 0, 0], dtype=int64)"
      ]
     },
     "execution_count": 71,
     "metadata": {},
     "output_type": "execute_result"
    }
   ],
   "source": [
    "test_prediction[:5]"
   ]
  },
  {
   "cell_type": "code",
   "execution_count": null,
   "metadata": {},
   "outputs": [],
   "source": []
  }
 ],
 "metadata": {
  "kernelspec": {
   "display_name": "Python 3",
   "language": "python",
   "name": "python3"
  },
  "language_info": {
   "codemirror_mode": {
    "name": "ipython",
    "version": 3
   },
   "file_extension": ".py",
   "mimetype": "text/x-python",
   "name": "python",
   "nbconvert_exporter": "python",
   "pygments_lexer": "ipython3",
   "version": "3.7.1"
  }
 },
 "nbformat": 4,
 "nbformat_minor": 2
}
